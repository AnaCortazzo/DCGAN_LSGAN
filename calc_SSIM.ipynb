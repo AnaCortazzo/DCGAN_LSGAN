{
 "cells": [
  {
   "cell_type": "code",
   "execution_count": 3,
   "metadata": {},
   "outputs": [
    {
     "name": "stdout",
     "output_type": "stream",
     "text": [
      "Collecting opencv-python\n",
      "  Downloading opencv_python-4.9.0.80-cp37-abi3-manylinux_2_17_x86_64.manylinux2014_x86_64.whl (62.2 MB)\n",
      "\u001b[2K     \u001b[90m━━━━━━━━━━━━━━━━━━━━━━━━━━━━━━━━━━━━━━━━\u001b[0m \u001b[32m62.2/62.2 MB\u001b[0m \u001b[31m21.7 MB/s\u001b[0m eta \u001b[36m0:00:00\u001b[0m00:01\u001b[0m00:01\u001b[0m\n",
      "\u001b[?25hRequirement already satisfied: numpy>=1.19.3 in /home/anita/anaconda3/lib/python3.9/site-packages (from opencv-python) (1.23.5)\n",
      "Installing collected packages: opencv-python\n",
      "Successfully installed opencv-python-4.9.0.80\n",
      "Note: you may need to restart the kernel to use updated packages.\n"
     ]
    }
   ],
   "source": [
    "#pip install opencv-python"
   ]
  },
  {
   "cell_type": "code",
   "execution_count": 2,
   "metadata": {},
   "outputs": [],
   "source": [
    "import cv2\n",
    "from skimage.metrics import structural_similarity as ssim\n"
   ]
  },
  {
   "cell_type": "code",
   "execution_count": 3,
   "metadata": {},
   "outputs": [],
   "source": [
    "# Cargar las imágenes\n",
    "img1 = cv2.imread('./imagenesLatex/reales.png')\n",
    "img2 = cv2.imread('./imagenesLatex/DCGAN100.png')\n",
    "img3 = cv2.imread('./imagenesLatex/LSGAN100.png')\n"
   ]
  },
  {
   "cell_type": "code",
   "execution_count": 4,
   "metadata": {},
   "outputs": [],
   "source": [
    "# Redimensionar las imágenes para que tengan las mismas dimensiones\n",
    "img1_resized = cv2.resize(img1, (img2.shape[1], img2.shape[0]))\n",
    "\n",
    "# Convertir las imágenes a escala de grises\n",
    "img1_gray = cv2.cvtColor(img1_resized, cv2.COLOR_BGR2GRAY)\n",
    "img2_gray = cv2.cvtColor(img2, cv2.COLOR_BGR2GRAY)\n",
    "img3_gray = cv2.cvtColor(img3, cv2.COLOR_BGR2GRAY)"
   ]
  },
  {
   "cell_type": "code",
   "execution_count": 5,
   "metadata": {},
   "outputs": [
    {
     "name": "stdout",
     "output_type": "stream",
     "text": [
      "DCGAN: El SSIM entre las imágenes es: 0.2724599964047268\n"
     ]
    }
   ],
   "source": [
    "# Calcular el SSIM\n",
    "ssim_index = ssim(img1_gray, img2_gray)\n",
    "\n",
    "print(f\"DCGAN: El SSIM entre las imágenes es: {ssim_index}\")"
   ]
  },
  {
   "cell_type": "code",
   "execution_count": 6,
   "metadata": {},
   "outputs": [
    {
     "name": "stdout",
     "output_type": "stream",
     "text": [
      "LSGAN: El SSIM entre las imágenes es: 0.27239105077001974\n"
     ]
    }
   ],
   "source": [
    "# Calcular el SSIM\n",
    "ssim_index2 = ssim(img1_gray, img3_gray)\n",
    "\n",
    "print(f\"LSGAN: El SSIM entre las imágenes es: {ssim_index2}\")"
   ]
  },
  {
   "cell_type": "code",
   "execution_count": 7,
   "metadata": {},
   "outputs": [
    {
     "name": "stdout",
     "output_type": "stream",
     "text": [
      "El SSIM entre las imágenes es: 0.3106766043489796\n"
     ]
    }
   ],
   "source": [
    "# Calcular el SSIM\n",
    "ssim_index3 = ssim(img3_gray, img2_gray)\n",
    "\n",
    "print(f\"Comparo - El SSIM entre las imágenes es: {ssim_index3}\")"
   ]
  }
 ],
 "metadata": {
  "kernelspec": {
   "display_name": "base",
   "language": "python",
   "name": "python3"
  },
  "language_info": {
   "codemirror_mode": {
    "name": "ipython",
    "version": 3
   },
   "file_extension": ".py",
   "mimetype": "text/x-python",
   "name": "python",
   "nbconvert_exporter": "python",
   "pygments_lexer": "ipython3",
   "version": "3.9.16"
  }
 },
 "nbformat": 4,
 "nbformat_minor": 2
}
